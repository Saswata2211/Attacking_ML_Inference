{
  "cells": [
    {
      "cell_type": "code",
      "execution_count": 1,
      "metadata": {
        "id": "15madVqDi4x9"
      },
      "outputs": [],
      "source": [
        "import numpy as np\n",
        "import tensorflow as tf\n",
        "\n",
        "from tensorflow.keras.utils import to_categorical"
      ]
    },
    {
      "cell_type": "code",
      "execution_count": 2,
      "metadata": {
        "colab": {
          "base_uri": "https://localhost:8080/",
          "height": 527
        },
        "id": "JByodkanhU8t",
        "outputId": "316407bf-a9ea-4cf1-acba-7207dd87e5d1"
      },
      "outputs": [],
      "source": [
        "\n",
        "from network import Network\n",
        "from fc_layer import FCLayer\n",
        "from activation_layer import ActivationLayer\n",
        "from activations import tanh, tanh_prime,softmax,relu,relu_prime,softmax_prime\n",
        "from losses import mse, mse_prime\n",
        "\n",
        "from keras.datasets import mnist\n",
        "#from keras.utils import np_utils\n",
        "\n"
      ]
    },
    {
      "cell_type": "code",
      "execution_count": 3,
      "metadata": {
        "id": "w67Bjc5YjCwA"
      },
      "outputs": [],
      "source": [
        "import numpy as np\n",
        "import tensorflow as tf\n",
        "from tensorflow.keras.datasets import mnist\n",
        "\n",
        "# load MNIST from server\n",
        "(x_train, y_train), (x_test, y_test) = mnist.load_data()\n",
        "\n",
        "# training data : 60000 samples\n",
        "# reshape and normalize input data\n",
        "x_train = x_train.reshape(x_train.shape[0], 1, 28*28)\n",
        "x_train = x_train.astype('float32')\n",
        "x_train /= 255\n",
        "\n",
        "# encode output which is a number in range [0,9] into a vector of size 10\n",
        "# e.g. number 3 will become [0, 0, 0, 1, 0, 0, 0, 0, 0, 0]\n",
        "y_train = tf.keras.utils.to_categorical(y_train)\n",
        "\n",
        "# same for test data : 10000 samples\n",
        "x_test = x_test.reshape(x_test.shape[0], 1, 28*28)\n",
        "x_test = x_test.astype('float32')\n",
        "x_test /= 255\n",
        "y_test = tf.keras.utils.to_categorical(y_test)\n"
      ]
    },
    {
      "cell_type": "code",
      "execution_count": 4,
      "metadata": {
        "id": "leG8iejd0ZcR"
      },
      "outputs": [],
      "source": [
        "net = Network()\n",
        "net.add(FCLayer(28*28, 32))                # input_shape=(1, 28*28)    ;   output_shape=(1, 32)\n",
        "net.add(ActivationLayer(relu, relu_prime))\n",
        "net.add(FCLayer(32, 16))                   # input_shape=(1, 32)      ;   output_shape=(1, 16)\n",
        "net.add(ActivationLayer(relu, relu_prime))\n",
        "net.add(FCLayer(16, 10))                    # input_shape=(1, 16)       ;   output_shape=(1, 10)\n",
        "net.add(ActivationLayer(softmax, softmax_prime))\n"
      ]
    },
    {
      "cell_type": "code",
      "execution_count": 5,
      "metadata": {},
      "outputs": [
        {
          "name": "stdout",
          "output_type": "stream",
          "text": [
            "[<fc_layer.FCLayer object at 0x000001BA1FF763D0>, <activation_layer.ActivationLayer object at 0x000001BA1E232F90>, <fc_layer.FCLayer object at 0x000001BA1E280F50>, <activation_layer.ActivationLayer object at 0x000001BA1FF76D50>, <fc_layer.FCLayer object at 0x000001BA1FF76E50>, <activation_layer.ActivationLayer object at 0x000001BA1FF76DD0>]\n",
            "[<fc_layer.FCLayer object at 0x000001BA1FF763D0>, <activation_layer.ActivationLayer object at 0x000001BA1E232F90>, <fc_layer.FCLayer object at 0x000001BA1E280F50>, <activation_layer.ActivationLayer object at 0x000001BA1FF76D50>, <fc_layer.FCLayer object at 0x000001BA1FF76E50>, <activation_layer.ActivationLayer object at 0x000001BA1FF76DD0>]\n",
            "[<fc_layer.FCLayer object at 0x000001BA1FF763D0>, <activation_layer.ActivationLayer object at 0x000001BA1E232F90>, <fc_layer.FCLayer object at 0x000001BA1E280F50>, <activation_layer.ActivationLayer object at 0x000001BA1FF76D50>, <fc_layer.FCLayer object at 0x000001BA1FF76E50>, <activation_layer.ActivationLayer object at 0x000001BA1FF76DD0>]\n",
            "[<fc_layer.FCLayer object at 0x000001BA1FF763D0>, <activation_layer.ActivationLayer object at 0x000001BA1E232F90>, <fc_layer.FCLayer object at 0x000001BA1E280F50>, <activation_layer.ActivationLayer object at 0x000001BA1FF76D50>, <fc_layer.FCLayer object at 0x000001BA1FF76E50>, <activation_layer.ActivationLayer object at 0x000001BA1FF76DD0>]\n",
            "(16, 10)\n",
            "(16, 10)\n"
          ]
        }
      ],
      "source": [
        "directory_path = ''\n",
        "net.load_weights(directory_path)"
      ]
    },
    {
      "cell_type": "code",
      "execution_count": 6,
      "metadata": {},
      "outputs": [
        {
          "name": "stdout",
          "output_type": "stream",
          "text": [
            "9.28125\n"
          ]
        },
        {
          "data": {
            "text/plain": [
              "'fxp-s16/6'"
            ]
          },
          "execution_count": 6,
          "metadata": {},
          "output_type": "execute_result"
        }
      ],
      "source": [
        "from fxpmath import Fxp \n",
        "a = np.array([[1,2],[1,2]])\n",
        "#a=Fxp(a,true,n_word=16, n_frac=4)\n",
        "#print(a.get_status)\n",
        "b=9.283982982394\n",
        "b=Fxp(b,True,16,6)\n",
        "\n",
        "print(b)\n",
        "\n",
        "b.dtype"
      ]
    },
    {
      "cell_type": "code",
      "execution_count": 7,
      "metadata": {},
      "outputs": [
        {
          "data": {
            "text/plain": [
              "(1, 1, 784)"
            ]
          },
          "execution_count": 7,
          "metadata": {},
          "output_type": "execute_result"
        }
      ],
      "source": [
        "x_test[0:1].shape"
      ]
    },
    {
      "cell_type": "code",
      "execution_count": 8,
      "metadata": {},
      "outputs": [],
      "source": [
        "#print(out[0])"
      ]
    },
    {
      "cell_type": "code",
      "execution_count": 7,
      "metadata": {
        "colab": {
          "base_uri": "https://localhost:8080/",
          "height": 426
        },
        "id": "N5bIke8h0Zfb",
        "outputId": "fff82b94-ac5a-48c5-fa0a-bd6bcb3870e9"
      },
      "outputs": [
        {
          "name": "stdout",
          "output_type": "stream",
          "text": [
            "Input: (1, 784)\n",
            "Weight: (784, 32)\n",
            "Output: (1, 32)\n",
            "Layer 1 output: [[-1.09765625  4.01953125 -2.8828125   1.26953125  4.9765625  -1.00390625\n",
            "   2.59375     1.1328125   0.48046875  0.52734375  5.1953125   3.07421875\n",
            "  -0.7734375  -1.20703125  2.87890625  4.921875    0.4375     -2.39453125\n",
            "   1.94921875  1.515625    0.78515625 -1.34375     1.6953125   5.58203125\n",
            "   1.73046875  1.15625     5.375       1.58203125  0.16015625  2.74609375\n",
            "  -1.7578125   2.58203125]]\n",
            "Layer 2 output: [[0.         4.01953125 0.         1.26953125 4.9765625  0.\n",
            "  2.59375    1.1328125  0.48046875 0.52734375 5.1953125  3.07421875\n",
            "  0.         0.         2.87890625 4.921875   0.4375     0.\n",
            "  1.94921875 1.515625   0.78515625 0.         1.6953125  5.58203125\n",
            "  1.73046875 1.15625    5.375      1.58203125 0.16015625 2.74609375\n",
            "  0.         2.58203125]]\n",
            "Input: (1, 32)\n",
            "Weight: (32, 16)\n",
            "Output: (1, 16)\n",
            "Layer 3 output: [[-5.2421875  -4.359375    0.50390625 -1.078125    4.05859375 12.2109375\n",
            "  -1.0234375  10.765625   -2.34375    -2.62890625 -6.296875   -0.59765625\n",
            "   5.68359375  0.15625     1.87109375  9.58203125]]\n",
            "Layer 4 output: [[ 0.          0.          0.50390625  0.          4.05859375 12.2109375\n",
            "   0.         10.765625    0.          0.          0.          0.\n",
            "   5.68359375  0.15625     1.87109375  9.58203125]]\n",
            "Input: (1, 16)\n",
            "Weight: (16, 10)\n",
            "Output: (1, 10)\n",
            "Layer 5 output: [[ -3.87109375  -3.34765625   1.51171875   6.1953125   -0.03515625\n",
            "    0.05078125 -13.8203125   13.6953125    1.66015625   4.04296875]]\n",
            "Layer 6 output: [[2.34818795950473e-08 3.963317589518949e-08 5.110443871102766e-06\n",
            "  0.0005527357358817236 1.0880762880542908e-06 1.1857183146897962e-06\n",
            "  1.121610284846291e-12 0.9993696544597405 5.92821860305535e-06\n",
            "  6.423423112380267e-05]]\n",
            "\n",
            "\n",
            "predicted values : \n",
            "[fxp-s132/67([[2.34818795950473e-08 3.963317589518949e-08 5.110443871102766e-06\n",
            "              0.0005527357358817236 1.0880762880542908e-06 1.1857183146897962e-06\n",
            "              1.121610284846291e-12 0.9993696544597405 5.92821860305535e-06\n",
            "              6.423423112380267e-05]])]\n",
            "true values : \n",
            "[[0. 0. 0. 0. 0. 0. 0. 1. 0. 0.]]\n"
          ]
        }
      ],
      "source": [
        "# train on 1000 samples\n",
        "# as we didn't implemented mini-batch GD, training will be pretty slow if we update at each iteration on 60000 samples...\n",
        "#net.use(mse, mse_prime)\n",
        "#net.fit(x_train[0:1000], y_train[0:1000], epochs=35, learning_rate=0.1)\n",
        "\n",
        "# test on one sample\n",
        "out = net.predict(x_test[0:1])\n",
        "print(\"\\n\")\n",
        "print(\"predicted values : \")\n",
        "print(out, end=\"\\n\")\n",
        "print(\"true values : \")\n",
        "print(y_test[0:1])"
      ]
    },
    {
      "cell_type": "markdown",
      "metadata": {
        "id": "0KdxoSL5BvJf"
      },
      "source": [
        "**Adding noise directly** - Not important\n"
      ]
    },
    {
      "cell_type": "code",
      "execution_count": 10,
      "metadata": {
        "id": "IQDiwu5f0Zje"
      },
      "outputs": [],
      "source": [
        "import numpy as np\n",
        "\n",
        "def add_noise(image, noise_factor=0.2):\n",
        "    \"\"\"\n",
        "    Add random noise to the input image.\n",
        "\n",
        "    Parameters:\n",
        "    - image: input image\n",
        "    - noise_factor: factor controlling the amount of noise to be added\n",
        "\n",
        "    Returns:\n",
        "    - noisy_image: image with added noise\n",
        "    \"\"\"\n",
        "    noisy_image = image + noise_factor * np.random.normal(loc=0.0, scale=1.0, size=image.shape)\n",
        "    # Clip the pixel values to be within [0, 1]\n",
        "    noisy_image = np.clip(noisy_image, 0.0, 1.0)\n",
        "    return noisy_image\n",
        "\n",
        "# Generate perturbed training data\n",
        "x_train_perturbed = np.array([add_noise(image) for image in x_train])\n",
        "\n",
        "# Generate perturbed test data\n",
        "x_test_perturbed = np.array([add_noise(image) for image in x_test])\n"
      ]
    },
    {
      "cell_type": "code",
      "execution_count": null,
      "metadata": {
        "colab": {
          "base_uri": "https://localhost:8080/"
        },
        "id": "B7OCQVyE0Zmy",
        "outputId": "08a5c997-f033-4e46-fc7a-0f830101c482"
      },
      "outputs": [],
      "source": [
        "# Reshape perturbed training data\n",
        "x_train_perturbed = x_train_perturbed.reshape(x_train_perturbed.shape[0], 1, -1)\n",
        "\n",
        "# Reshape perturbed test data\n",
        "x_test_perturbed = x_test_perturbed.reshape(x_test_perturbed.shape[0], 1, -1)\n",
        "\n",
        "# train on 1000 samples\n",
        "\n",
        "net.use(mse, mse_prime)\n",
        "net.fit(x_train_perturbed[0:1000], y_train[0:1000], epochs=35, learning_rate=0.1)\n",
        "\n",
        "# test on 1 samples\n",
        "out = net.predict(x_test_perturbed[0:3])\n",
        "print(\"\\n\")\n",
        "print(\"predicted values : \")\n",
        "print(out, end=\"\\n\")\n",
        "print(\"true values : \")\n",
        "print(y_test[0:3])"
      ]
    },
    {
      "cell_type": "code",
      "execution_count": null,
      "metadata": {
        "colab": {
          "base_uri": "https://localhost:8080/"
        },
        "id": "RPy2yGzOUGqx",
        "outputId": "50dc05d8-4d6c-4f2a-dbd0-1328805320b0"
      },
      "outputs": [
        {
          "data": {
            "text/plain": [
              "(60000, 10)"
            ]
          },
          "execution_count": 47,
          "metadata": {},
          "output_type": "execute_result"
        }
      ],
      "source": [
        "y_train.shape"
      ]
    },
    {
      "cell_type": "markdown",
      "metadata": {
        "id": "oXdlp9pVB7OC"
      },
      "source": [
        "**Using 'Cleverhans'**"
      ]
    },
    {
      "cell_type": "code",
      "execution_count": 8,
      "metadata": {
        "colab": {
          "base_uri": "https://localhost:8080/"
        },
        "id": "zR3wOEbKpVdH",
        "outputId": "4630764c-51b5-4767-8ae8-d30f2b39a458"
      },
      "outputs": [
        {
          "name": "stderr",
          "output_type": "stream",
          "text": [
            "c:\\Users\\SASWATA PAUL\\AppData\\Local\\Programs\\Python\\Python311\\Lib\\site-packages\\keras\\src\\layers\\reshaping\\flatten.py:37: UserWarning: Do not pass an `input_shape`/`input_dim` argument to a layer. When using Sequential models, prefer using an `Input(shape)` object as the first layer in the model instead.\n",
            "  super().__init__(**kwargs)\n"
          ]
        },
        {
          "name": "stdout",
          "output_type": "stream",
          "text": [
            "Epoch 1/5\n",
            "\u001b[1m1875/1875\u001b[0m \u001b[32m━━━━━━━━━━━━━━━━━━━━\u001b[0m\u001b[37m\u001b[0m \u001b[1m6s\u001b[0m 2ms/step - accuracy: 0.7841 - loss: 0.6797 - val_accuracy: 0.9408 - val_loss: 0.2002\n",
            "Epoch 2/5\n",
            "\u001b[1m1875/1875\u001b[0m \u001b[32m━━━━━━━━━━━━━━━━━━━━\u001b[0m\u001b[37m\u001b[0m \u001b[1m4s\u001b[0m 2ms/step - accuracy: 0.9450 - loss: 0.1903 - val_accuracy: 0.9499 - val_loss: 0.1653\n",
            "Epoch 3/5\n",
            "\u001b[1m1875/1875\u001b[0m \u001b[32m━━━━━━━━━━━━━━━━━━━━\u001b[0m\u001b[37m\u001b[0m \u001b[1m4s\u001b[0m 2ms/step - accuracy: 0.9567 - loss: 0.1463 - val_accuracy: 0.9571 - val_loss: 0.1425\n",
            "Epoch 4/5\n",
            "\u001b[1m1875/1875\u001b[0m \u001b[32m━━━━━━━━━━━━━━━━━━━━\u001b[0m\u001b[37m\u001b[0m \u001b[1m4s\u001b[0m 2ms/step - accuracy: 0.9646 - loss: 0.1208 - val_accuracy: 0.9618 - val_loss: 0.1213\n",
            "Epoch 5/5\n",
            "\u001b[1m1875/1875\u001b[0m \u001b[32m━━━━━━━━━━━━━━━━━━━━\u001b[0m\u001b[37m\u001b[0m \u001b[1m4s\u001b[0m 2ms/step - accuracy: 0.9688 - loss: 0.1056 - val_accuracy: 0.9637 - val_loss: 0.1226\n",
            "\u001b[1m313/313\u001b[0m \u001b[32m━━━━━━━━━━━━━━━━━━━━\u001b[0m\u001b[37m\u001b[0m \u001b[1m1s\u001b[0m 2ms/step - accuracy: 0.9570 - loss: 0.1423\n",
            "Test accuracy: 0.963699996471405\n"
          ]
        }
      ],
      "source": [
        "#from re import X\n",
        "from tensorflow.keras.models import Sequential\n",
        "from tensorflow.keras.layers import Dense, Flatten\n",
        "\n",
        "# Load the MNIST dataset\n",
        "(x_train, y_train), (x_test, y_test) = mnist.load_data()\n",
        "\n",
        "\n",
        "x_train = x_train.reshape(x_train.shape[0], 1, 28*28)\n",
        "x_train = x_train.astype('float32')\n",
        "x_train /= 255\n",
        "# encode output which is a number in range [0,9] into a vector of size 10\n",
        "# e.g. number 3 will become [0, 0, 0, 1, 0, 0, 0, 0, 0, 0]\n",
        "y_train = tf.keras.utils.to_categorical(y_train)\n",
        "\n",
        "# same for test data : 10000 samples\n",
        "x_test = x_test.reshape(x_test.shape[0], 1, 28*28)\n",
        "x_test = x_test.astype('float32')\n",
        "x_test /= 255\n",
        "y_test = tf.keras.utils.to_categorical(y_test)\n",
        "\n",
        "\n",
        "# Define the ANN model\n",
        "model = Sequential()\n",
        "\n",
        "# Input layer\n",
        "model.add(Flatten(input_shape=(1, 784)))\n",
        "\n",
        "# Hidden layers with ReLU activation\n",
        "model.add(Dense(32, activation='relu'))\n",
        "model.add(Dense(16, activation='relu'))\n",
        "\n",
        "# Output layer with softmax activation for probability distribution\n",
        "model.add(Dense(10, activation='softmax'))\n",
        "\n",
        "# Compile the model\n",
        "model.compile(loss='categorical_crossentropy', optimizer='adam', metrics=['accuracy'])\n",
        "\n",
        "# Train the model\n",
        "model.fit(x_train, y_train, epochs=5, batch_size=32, validation_data=(x_test, y_test))\n",
        "\n",
        "# Evaluate the model on test data\n",
        "test_loss, test_acc = model.evaluate(x_test, y_test)\n",
        "print('Test accuracy:', test_acc)\n",
        "\n",
        "\n"
      ]
    },
    {
      "cell_type": "code",
      "execution_count": 9,
      "metadata": {
        "colab": {
          "base_uri": "https://localhost:8080/"
        },
        "id": "iXmeEj-au80g",
        "outputId": "31bea4dc-91ef-4079-88c3-87e74b61eb9b"
      },
      "outputs": [],
      "source": [
        "#!pip install git+https://github.com/CNOCycle/cleverhans.git@feature/tf2.x\n",
        "import cleverhans\n",
        "from cleverhans.future.tf2.attacks import projected_gradient_descent"
      ]
    },
    {
      "cell_type": "code",
      "execution_count": null,
      "metadata": {
        "id": "l-X3SUUYvTpQ"
      },
      "outputs": [
        {
          "data": {
            "text/html": [
              "<pre style=\"white-space:pre;overflow-x:auto;line-height:normal;font-family:Menlo,'DejaVu Sans Mono',consolas,'Courier New',monospace\"><span style=\"font-weight: bold\">Model: \"sequential\"</span>\n",
              "</pre>\n"
            ],
            "text/plain": [
              "\u001b[1mModel: \"sequential\"\u001b[0m\n"
            ]
          },
          "metadata": {},
          "output_type": "display_data"
        },
        {
          "data": {
            "text/html": [
              "<pre style=\"white-space:pre;overflow-x:auto;line-height:normal;font-family:Menlo,'DejaVu Sans Mono',consolas,'Courier New',monospace\">┏━━━━━━━━━━━━━━━━━━━━━━━━━━━━━━━━━┳━━━━━━━━━━━━━━━━━━━━━━━━┳━━━━━━━━━━━━━━━┓\n",
              "┃<span style=\"font-weight: bold\"> Layer (type)                    </span>┃<span style=\"font-weight: bold\"> Output Shape           </span>┃<span style=\"font-weight: bold\">       Param # </span>┃\n",
              "┡━━━━━━━━━━━━━━━━━━━━━━━━━━━━━━━━━╇━━━━━━━━━━━━━━━━━━━━━━━━╇━━━━━━━━━━━━━━━┩\n",
              "│ flatten (<span style=\"color: #0087ff; text-decoration-color: #0087ff\">Flatten</span>)               │ (<span style=\"color: #00d7ff; text-decoration-color: #00d7ff\">None</span>, <span style=\"color: #00af00; text-decoration-color: #00af00\">784</span>)            │             <span style=\"color: #00af00; text-decoration-color: #00af00\">0</span> │\n",
              "├─────────────────────────────────┼────────────────────────┼───────────────┤\n",
              "│ dense (<span style=\"color: #0087ff; text-decoration-color: #0087ff\">Dense</span>)                   │ (<span style=\"color: #00d7ff; text-decoration-color: #00d7ff\">None</span>, <span style=\"color: #00af00; text-decoration-color: #00af00\">32</span>)             │        <span style=\"color: #00af00; text-decoration-color: #00af00\">25,120</span> │\n",
              "├─────────────────────────────────┼────────────────────────┼───────────────┤\n",
              "│ dense_1 (<span style=\"color: #0087ff; text-decoration-color: #0087ff\">Dense</span>)                 │ (<span style=\"color: #00d7ff; text-decoration-color: #00d7ff\">None</span>, <span style=\"color: #00af00; text-decoration-color: #00af00\">16</span>)             │           <span style=\"color: #00af00; text-decoration-color: #00af00\">528</span> │\n",
              "├─────────────────────────────────┼────────────────────────┼───────────────┤\n",
              "│ dense_2 (<span style=\"color: #0087ff; text-decoration-color: #0087ff\">Dense</span>)                 │ (<span style=\"color: #00d7ff; text-decoration-color: #00d7ff\">None</span>, <span style=\"color: #00af00; text-decoration-color: #00af00\">10</span>)             │           <span style=\"color: #00af00; text-decoration-color: #00af00\">170</span> │\n",
              "└─────────────────────────────────┴────────────────────────┴───────────────┘\n",
              "</pre>\n"
            ],
            "text/plain": [
              "┏━━━━━━━━━━━━━━━━━━━━━━━━━━━━━━━━━┳━━━━━━━━━━━━━━━━━━━━━━━━┳━━━━━━━━━━━━━━━┓\n",
              "┃\u001b[1m \u001b[0m\u001b[1mLayer (type)                   \u001b[0m\u001b[1m \u001b[0m┃\u001b[1m \u001b[0m\u001b[1mOutput Shape          \u001b[0m\u001b[1m \u001b[0m┃\u001b[1m \u001b[0m\u001b[1m      Param #\u001b[0m\u001b[1m \u001b[0m┃\n",
              "┡━━━━━━━━━━━━━━━━━━━━━━━━━━━━━━━━━╇━━━━━━━━━━━━━━━━━━━━━━━━╇━━━━━━━━━━━━━━━┩\n",
              "│ flatten (\u001b[38;5;33mFlatten\u001b[0m)               │ (\u001b[38;5;45mNone\u001b[0m, \u001b[38;5;34m784\u001b[0m)            │             \u001b[38;5;34m0\u001b[0m │\n",
              "├─────────────────────────────────┼────────────────────────┼───────────────┤\n",
              "│ dense (\u001b[38;5;33mDense\u001b[0m)                   │ (\u001b[38;5;45mNone\u001b[0m, \u001b[38;5;34m32\u001b[0m)             │        \u001b[38;5;34m25,120\u001b[0m │\n",
              "├─────────────────────────────────┼────────────────────────┼───────────────┤\n",
              "│ dense_1 (\u001b[38;5;33mDense\u001b[0m)                 │ (\u001b[38;5;45mNone\u001b[0m, \u001b[38;5;34m16\u001b[0m)             │           \u001b[38;5;34m528\u001b[0m │\n",
              "├─────────────────────────────────┼────────────────────────┼───────────────┤\n",
              "│ dense_2 (\u001b[38;5;33mDense\u001b[0m)                 │ (\u001b[38;5;45mNone\u001b[0m, \u001b[38;5;34m10\u001b[0m)             │           \u001b[38;5;34m170\u001b[0m │\n",
              "└─────────────────────────────────┴────────────────────────┴───────────────┘\n"
            ]
          },
          "metadata": {},
          "output_type": "display_data"
        },
        {
          "data": {
            "text/html": [
              "<pre style=\"white-space:pre;overflow-x:auto;line-height:normal;font-family:Menlo,'DejaVu Sans Mono',consolas,'Courier New',monospace\"><span style=\"font-weight: bold\"> Total params: </span><span style=\"color: #00af00; text-decoration-color: #00af00\">77,456</span> (302.57 KB)\n",
              "</pre>\n"
            ],
            "text/plain": [
              "\u001b[1m Total params: \u001b[0m\u001b[38;5;34m77,456\u001b[0m (302.57 KB)\n"
            ]
          },
          "metadata": {},
          "output_type": "display_data"
        },
        {
          "data": {
            "text/html": [
              "<pre style=\"white-space:pre;overflow-x:auto;line-height:normal;font-family:Menlo,'DejaVu Sans Mono',consolas,'Courier New',monospace\"><span style=\"font-weight: bold\"> Trainable params: </span><span style=\"color: #00af00; text-decoration-color: #00af00\">25,818</span> (100.85 KB)\n",
              "</pre>\n"
            ],
            "text/plain": [
              "\u001b[1m Trainable params: \u001b[0m\u001b[38;5;34m25,818\u001b[0m (100.85 KB)\n"
            ]
          },
          "metadata": {},
          "output_type": "display_data"
        },
        {
          "data": {
            "text/html": [
              "<pre style=\"white-space:pre;overflow-x:auto;line-height:normal;font-family:Menlo,'DejaVu Sans Mono',consolas,'Courier New',monospace\"><span style=\"font-weight: bold\"> Non-trainable params: </span><span style=\"color: #00af00; text-decoration-color: #00af00\">0</span> (0.00 B)\n",
              "</pre>\n"
            ],
            "text/plain": [
              "\u001b[1m Non-trainable params: \u001b[0m\u001b[38;5;34m0\u001b[0m (0.00 B)\n"
            ]
          },
          "metadata": {},
          "output_type": "display_data"
        },
        {
          "data": {
            "text/html": [
              "<pre style=\"white-space:pre;overflow-x:auto;line-height:normal;font-family:Menlo,'DejaVu Sans Mono',consolas,'Courier New',monospace\"><span style=\"font-weight: bold\"> Optimizer params: </span><span style=\"color: #00af00; text-decoration-color: #00af00\">51,638</span> (201.71 KB)\n",
              "</pre>\n"
            ],
            "text/plain": [
              "\u001b[1m Optimizer params: \u001b[0m\u001b[38;5;34m51,638\u001b[0m (201.71 KB)\n"
            ]
          },
          "metadata": {},
          "output_type": "display_data"
        }
      ],
      "source": [
        "model.summary()"
      ]
    },
    {
      "cell_type": "code",
      "execution_count": 10,
      "metadata": {
        "id": "j6XxDeIPvR8g"
      },
      "outputs": [],
      "source": [
        "test_images=x_test\n",
        "input_image=test_images\n",
        "eps = 0.1  # Perturbation magnitude\n",
        "eps_iter = 0.05  # Iterative perturbation magnitude\n",
        "nb_iter = 10  # Number of iterations\n",
        "\n",
        "perturbed_images=projected_gradient_descent(model,input_image, eps=eps, eps_iter=eps_iter, nb_iter=nb_iter, norm=np.inf, clip_min=0.0, clip_max=1.0)"
      ]
    },
    {
      "cell_type": "code",
      "execution_count": null,
      "metadata": {
        "colab": {
          "base_uri": "https://localhost:8080/"
        },
        "id": "LAICTiWCvSCM",
        "outputId": "cbec85d8-71a0-49be-dbe4-d5f643a14028"
      },
      "outputs": [
        {
          "data": {
            "text/plain": [
              "TensorShape([1000, 1, 784])"
            ]
          },
          "execution_count": 11,
          "metadata": {},
          "output_type": "execute_result"
        }
      ],
      "source": [
        "perturbed_images[0:1000].shape"
      ]
    },
    {
      "cell_type": "code",
      "execution_count": null,
      "metadata": {
        "colab": {
          "base_uri": "https://localhost:8080/"
        },
        "id": "VZ9mUKgVvSv7",
        "outputId": "e529f3d5-ac14-465b-dc73-9a8c5ece28cd"
      },
      "outputs": [
        {
          "data": {
            "text/plain": [
              "(1000, 1, 784)"
            ]
          },
          "execution_count": 12,
          "metadata": {},
          "output_type": "execute_result"
        }
      ],
      "source": [
        "x_train[0:1000].shape"
      ]
    },
    {
      "cell_type": "code",
      "execution_count": null,
      "metadata": {
        "colab": {
          "base_uri": "https://localhost:8080/"
        },
        "id": "nz-C-ei2Ac90",
        "outputId": "201390b4-e82d-4f06-a20f-e76999665d91"
      },
      "outputs": [
        {
          "data": {
            "text/plain": [
              "(10000, 1, 784)"
            ]
          },
          "execution_count": 13,
          "metadata": {},
          "output_type": "execute_result"
        }
      ],
      "source": [
        "perturbed_images.numpy().shape"
      ]
    },
    {
      "cell_type": "markdown",
      "metadata": {},
      "source": [
        "Testing on first image of Mnist dataset"
      ]
    },
    {
      "cell_type": "code",
      "execution_count": 11,
      "metadata": {
        "colab": {
          "base_uri": "https://localhost:8080/",
          "height": 371
        },
        "id": "18qBgUhmvSFp",
        "outputId": "6b65aa6c-323f-4d1c-cce7-20fdfc8f159e"
      },
      "outputs": [
        {
          "name": "stdout",
          "output_type": "stream",
          "text": [
            "Input: (1, 784)\n",
            "Weight: (784, 32)\n",
            "Output: (1, 32)\n",
            "Layer 1 output: [[-3.03515625  1.7734375  -3.9609375   2.93359375  4.23046875 -1.29296875\n",
            "   3.2265625   2.74609375 -0.22265625 -0.43359375  6.86328125  4.84375\n",
            "   0.171875    0.296875    1.6796875   4.7109375   2.21875    -4.0859375\n",
            "   2.43359375  1.359375   -0.36328125 -1.62890625  1.10546875  3.4765625\n",
            "   0.89453125  1.31640625  4.1796875   2.421875    0.76953125 -0.47265625\n",
            "  -1.890625    1.34765625]]\n",
            "Layer 2 output: [[0.         1.7734375  0.         2.93359375 4.23046875 0.\n",
            "  3.2265625  2.74609375 0.         0.         6.86328125 4.84375\n",
            "  0.171875   0.296875   1.6796875  4.7109375  2.21875    0.\n",
            "  2.43359375 1.359375   0.         0.         1.10546875 3.4765625\n",
            "  0.89453125 1.31640625 4.1796875  2.421875   0.76953125 0.\n",
            "  0.         1.34765625]]\n",
            "Input: (1, 32)\n",
            "Weight: (32, 16)\n",
            "Output: (1, 16)\n",
            "Layer 3 output: [[-6.         -4.48828125 -1.0703125   0.9296875   4.7265625  13.8515625\n",
            "  -1.171875    7.4765625  -2.0859375  -1.07421875 -5.43359375  0.59375\n",
            "   4.8828125   3.3828125   6.94140625  4.66796875]]\n",
            "Layer 4 output: [[ 0.          0.          0.          0.9296875   4.7265625  13.8515625\n",
            "   0.          7.4765625   0.          0.          0.          0.59375\n",
            "   4.8828125   3.3828125   6.94140625  4.66796875]]\n",
            "Input: (1, 16)\n",
            "Weight: (16, 10)\n",
            "Output: (1, 10)\n",
            "Layer 5 output: [[ -4.94921875  -2.515625    -0.54296875   9.49609375  -5.203125\n",
            "    4.125      -10.22265625   3.3125       4.96875      0.72265625]]\n",
            "Layer 6 output: [[5.234187213799582e-07 5.966856439975156e-06 4.290019962794801e-05\n",
            "  0.9825819012038985 4.060496765848968e-07 0.0045680661356146774\n",
            "  2.6830233065987447e-09 0.002027067059951486 0.01062107197805704\n",
            "  0.0001520944149890238]]\n",
            "\n",
            "\n",
            "predicted values for perturbed data : \n",
            "[fxp-s132/67([[5.234187213799582e-07 5.966856439975156e-06 4.290019962794801e-05\n",
            "              0.9825819012038985 4.060496765848968e-07 0.0045680661356146774\n",
            "              2.6830233065987447e-09 0.002027067059951486 0.01062107197805704\n",
            "              0.0001520944149890238]])]\n"
          ]
        }
      ],
      "source": [
        "out_perturbed = net.predict(perturbed_images.numpy()[0:1])\n",
        "print(\"\\n\")\n",
        "print(\"predicted values for perturbed data : \")\n",
        "print(out_perturbed, end=\"\\n\")\n",
        "print(\"\\n\")\n",
        "prinnt(\"perturbed_images:\" perturbed_images.numpy()[0:1])"
      ]
    },
    {
      "cell_type": "code",
      "execution_count": null,
      "metadata": {},
      "outputs": [
        {
          "name": "stdout",
          "output_type": "stream",
          "text": [
            "Input: (1, 784)\n",
            "Weight: (784, 32)\n",
            "Output: (1, 32)\n",
            "Layer 1 output: [[-1.0998992919921875 4.022552490234375 -2.883544921875 1.27197265625\n",
            "  4.9801177978515625 -1.004547119140625 2.5973358154296875\n",
            "  1.1345977783203125 0.4810791015625 0.529998779296875 5.1984100341796875\n",
            "  3.0768890380859375 -0.7765655517578125 -1.2100830078125\n",
            "  2.8824005126953125 4.9254913330078125 0.4395904541015625\n",
            "  -2.3953857421875 1.95263671875 1.51824951171875 0.786956787109375\n",
            "  -1.3453521728515625 1.696441650390625 5.584869384765625 1.7318115234375\n",
            "  1.1574249267578125 5.3764495849609375 1.5827789306640625\n",
            "  0.1603546142578125 2.7492828369140625 -1.7595672607421875\n",
            "  2.583709716796875]]\n",
            "Layer 2 output: [-1.0998992919921875 4.022552490234375 -2.883544921875 1.27197265625\n",
            " 4.9801177978515625 -1.004547119140625 2.5973358154296875\n",
            " 1.1345977783203125 0.4810791015625 0.529998779296875 5.1984100341796875\n",
            " 3.0768890380859375 -0.7765655517578125 -1.2100830078125\n",
            " 2.8824005126953125 4.9254913330078125 0.4395904541015625 -2.3953857421875\n",
            " 1.95263671875 1.51824951171875 0.786956787109375 -1.3453521728515625\n",
            " 1.696441650390625 5.584869384765625 1.7318115234375 1.1574249267578125\n",
            " 5.3764495849609375 1.5827789306640625 0.1603546142578125\n",
            " 2.7492828369140625 -1.7595672607421875 2.583709716796875]\n",
            "Input: (32,)\n",
            "Weight: (32, 16)\n",
            "Output: (1, 16)\n",
            "Layer 3 output: [[-4.4935302734375 -5.0264434814453125 -0.875091552734375\n",
            "  -2.6255340576171875 4.7349853515625 12.160415649414062\n",
            "  -1.260589599609375 11.929183959960938 -2.4951324462890625\n",
            "  -3.3499908447265625 -8.981979370117188 0.709136962890625\n",
            "  5.2210235595703125 -0.27801513671875 0.456390380859375\n",
            "  6.9980621337890625]]\n",
            "Layer 4 output: [-4.4935302734375 -5.0264434814453125 -0.875091552734375\n",
            " -2.6255340576171875 4.7349853515625 12.160415649414062 -1.260589599609375\n",
            " 11.929183959960938 -2.4951324462890625 -3.3499908447265625\n",
            " -8.981979370117188 0.709136962890625 5.2210235595703125 -0.27801513671875\n",
            " 0.456390380859375 6.9980621337890625]\n",
            "Input: (16,)\n",
            "Weight: (16, 10)\n",
            "Output: (1, 10)\n",
            "Layer 5 output: [[0.7091064453125 -2.0079193115234375 -0.9506378173828125\n",
            "  16.055068969726562 -4.65447998046875 5.3333587646484375\n",
            "  -22.657943725585938 15.69622802734375 13.500656127929688\n",
            "  14.068939208984375]]\n",
            "Layer 6 output: [[1.1311266671933492e-07 7.473464019009768e-09 2.1512627964659446e-08\n",
            "  0.5226104447697969 5.298284239794071e-10 1.1529182306116388e-05\n",
            "  7.928228386300251e-18 0.3650357874808744 0.040626619206844065\n",
            "  0.07171547673159136]]\n",
            "predicted values for test data : \n",
            "[fxp-s132/67([[1.1311266671933492e-07 7.473464019009768e-09 2.1512627964659446e-08\n",
            "              0.5226104447697969 5.298284239794071e-10 1.1529182306116388e-05\n",
            "              7.928228386300251e-18 0.3650357874808744 0.040626619206844065\n",
            "              0.07171547673159136]])]\n",
            "\n",
            "\n",
            "[[0. 0. 0. 0. 0. 0. 0. 1. 0. 0.]]\n"
          ]
        }
      ],
      "source": [
        "out_test = net.predict(x_test[0:1])\n",
        "print(\"predicted values for test data : \")\n",
        "print(out_test, end=\"\\n\")\n",
        "print(\"\\n\")\n",
        "print(y_test[0:1])\n"
      ]
    },
    {
      "cell_type": "code",
      "execution_count": null,
      "metadata": {},
      "outputs": [
        {
          "data": {
            "text/plain": [
              "1"
            ]
          },
          "execution_count": 16,
          "metadata": {},
          "output_type": "execute_result"
        }
      ],
      "source": [
        "len(out_perturbed)"
      ]
    }
  ],
  "metadata": {
    "colab": {
      "provenance": []
    },
    "kernelspec": {
      "display_name": "Python 3",
      "name": "python3"
    },
    "language_info": {
      "codemirror_mode": {
        "name": "ipython",
        "version": 3
      },
      "file_extension": ".py",
      "mimetype": "text/x-python",
      "name": "python",
      "nbconvert_exporter": "python",
      "pygments_lexer": "ipython3",
      "version": "3.11.5"
    }
  },
  "nbformat": 4,
  "nbformat_minor": 0
}
